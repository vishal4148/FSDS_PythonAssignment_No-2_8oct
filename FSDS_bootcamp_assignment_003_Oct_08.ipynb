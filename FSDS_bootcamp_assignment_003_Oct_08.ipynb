{
 "cells": [
  {
   "cell_type": "markdown",
   "metadata": {
    "id": "cyOfbWCdOjEr"
   },
   "source": [
    "# ASSIGNMENTS - Compulsory\n",
    "## Send it before 0000 hrs IST or 12 AM Wednesday\n",
    "\n",
    "## NOTE: Evaluation will be done before next class.\n",
    "\n",
    "## HOW TO SUBMIT: -\n",
    "Download this notebook, Solve it and upload in the google form given in the mail."
   ]
  },
  {
   "cell_type": "markdown",
   "metadata": {
    "id": "GT4IytkJMNa-"
   },
   "source": [
    "## Python String Manipulation\n",
    "\n",
    "1. Count the number of times `iNeuron` appears in the string.\n",
    "```python\n",
    "text = \"Welcome to iNeuron, You are a part of FSDS Bootcamp 2 in iNeuron. I hope you are enjoying the course by iNeuron\"\n",
    "```\n",
    "2. Check if position `5` to `11` ends with the phrase `iNeuron.` in the string \n",
    "```python\n",
    "txt = \"Hello, welcome to FSDS 2.0 at iNeuron.\"\n",
    "```\n",
    "3. Write a program that takes your full name as input and displays the abbreviations of the first and middle names except the last name which is displayed as it is. For example, if your name is Sunny Bhaveen Chandra, then the output should be S.B.Chandra.\n",
    "\n",
    "4. Join all items in a list into a string, using a hash(`#`) character as separator:\n",
    "```python\n",
    "LIST = [\"My\", \"name\", \"is\", \"Rishav\", \"Dash\"]\n",
    "```\n",
    "5. Write example for the following string manipulation function,\n",
    "\n",
    "  ```\n",
    "  - isdecimal()\n",
    "  - islower()\n",
    "  - isupper()\n",
    "  - isalpha()\n",
    "  - isnumeric()\n",
    "\n",
    "  ```\n",
    "6. Indian PAN card format follows the following formats - \n",
    "    - `AYEPC7894X`\n",
    "    - `ABCDE9999Y`\n",
    "  Take user input for PAN_CARD and validate as per the above example.\n"
   ]
  },
  {
   "cell_type": "markdown",
   "metadata": {
    "id": "KwVni9gipNi-"
   },
   "source": [
    "### 1:Count the number of times iNeuron appears in the string."
   ]
  },
  {
   "cell_type": "code",
   "execution_count": 2,
   "metadata": {},
   "outputs": [
    {
     "name": "stdout",
     "output_type": "stream",
     "text": [
      "Number of times iNeuron appears in the string is :  3\n"
     ]
    }
   ],
   "source": [
    "text = \"Welcome to iNeuron, You are a part of FSDS Bootcamp 2 in iNeuron. I hope you are enjoying the course by iNeuron\"\n",
    "print(\"Number of times iNeuron appears in the string is : \",text.count(\"iNeuron\"))"
   ]
  },
  {
   "cell_type": "code",
   "execution_count": null,
   "metadata": {},
   "outputs": [],
   "source": []
  },
  {
   "cell_type": "markdown",
   "metadata": {},
   "source": [
    "### 2:Check if position 5 to 11 ends with the phrase iNeuron. in the string"
   ]
  },
  {
   "cell_type": "code",
   "execution_count": 34,
   "metadata": {},
   "outputs": [
    {
     "name": "stdout",
     "output_type": "stream",
     "text": [
      "Not end with iNeuron\n"
     ]
    }
   ],
   "source": [
    "txt = \"Hello, welcome to FSDS 2.0 at iNeuron.\"\n",
    "string = \"iNeuron\"\n",
    "\n",
    "txt_1 = txt[5:11]\n",
    "if string in txt_1:\n",
    "    print(\"Ends with the phrase with iNeuron\")\n",
    "else:\n",
    "    print(\"Not end with iNeuron\")"
   ]
  },
  {
   "cell_type": "code",
   "execution_count": null,
   "metadata": {},
   "outputs": [],
   "source": []
  },
  {
   "cell_type": "markdown",
   "metadata": {},
   "source": [
    "### 3: Write a program that takes your full name as input and displays the abbreviations of the first and middle names except the last name which is displayed as it is. For example, if your name is Sunny Bhaveen Chandra, then the output should be S.B.Chandra."
   ]
  },
  {
   "cell_type": "code",
   "execution_count": 8,
   "metadata": {},
   "outputs": [
    {
     "name": "stdout",
     "output_type": "stream",
     "text": [
      "Enter your full name: Vishal Vijay Boraste\n",
      "V . V . Boraste\n"
     ]
    }
   ],
   "source": [
    "str = input(\"Enter your full name: \")\n",
    "list1=str.split(\" \")\n",
    "print(list1[0][0],\".\",list1[1][0],\".\",list1[2])"
   ]
  },
  {
   "cell_type": "code",
   "execution_count": null,
   "metadata": {},
   "outputs": [],
   "source": []
  },
  {
   "cell_type": "markdown",
   "metadata": {},
   "source": [
    "### 4: Join all items in a list into a string, using a hash(#) character as separator:"
   ]
  },
  {
   "cell_type": "code",
   "execution_count": 16,
   "metadata": {},
   "outputs": [
    {
     "name": "stdout",
     "output_type": "stream",
     "text": [
      "My#name#is#Rishav#Dash\n"
     ]
    }
   ],
   "source": [
    "LIST = [\"My\", \"name\", \"is\", \"Rishav\", \"Dash\"]\n",
    "string = \"#\".join(LIST)\n",
    "print(string)"
   ]
  },
  {
   "cell_type": "code",
   "execution_count": null,
   "metadata": {},
   "outputs": [],
   "source": []
  },
  {
   "cell_type": "markdown",
   "metadata": {},
   "source": [
    "### 5:Write example for the following string manipulation function,\n",
    "- isdecimal()\n",
    "- islower()\n",
    "- isupper()\n",
    "- isalpha()\n",
    "- isnumeric()"
   ]
  },
  {
   "cell_type": "code",
   "execution_count": 27,
   "metadata": {},
   "outputs": [
    {
     "data": {
      "text/plain": [
       "False"
      ]
     },
     "execution_count": 27,
     "metadata": {},
     "output_type": "execute_result"
    }
   ],
   "source": [
    "x = \"Vishal Vijay Boraste\"\n",
    "x.isdecimal()"
   ]
  },
  {
   "cell_type": "code",
   "execution_count": 26,
   "metadata": {},
   "outputs": [
    {
     "data": {
      "text/plain": [
       "True"
      ]
     },
     "execution_count": 26,
     "metadata": {},
     "output_type": "execute_result"
    }
   ],
   "source": [
    "x = \"vishal vijay boraste\"\n",
    "x.islower()"
   ]
  },
  {
   "cell_type": "code",
   "execution_count": 28,
   "metadata": {},
   "outputs": [
    {
     "data": {
      "text/plain": [
       "False"
      ]
     },
     "execution_count": 28,
     "metadata": {},
     "output_type": "execute_result"
    }
   ],
   "source": [
    "x = \"Vishal Vijay Boraste\"\n",
    "x.islower()"
   ]
  },
  {
   "cell_type": "code",
   "execution_count": 29,
   "metadata": {},
   "outputs": [
    {
     "data": {
      "text/plain": [
       "True"
      ]
     },
     "execution_count": 29,
     "metadata": {},
     "output_type": "execute_result"
    }
   ],
   "source": [
    "x = \"VISHAL VIJAY BORASTE\"\n",
    "x.isupper()"
   ]
  },
  {
   "cell_type": "code",
   "execution_count": 30,
   "metadata": {},
   "outputs": [
    {
     "data": {
      "text/plain": [
       "False"
      ]
     },
     "execution_count": 30,
     "metadata": {},
     "output_type": "execute_result"
    }
   ],
   "source": [
    "x = \"vishal vijay boraste\"\n",
    "x.isupper()"
   ]
  },
  {
   "cell_type": "code",
   "execution_count": 31,
   "metadata": {},
   "outputs": [
    {
     "data": {
      "text/plain": [
       "True"
      ]
     },
     "execution_count": 31,
     "metadata": {},
     "output_type": "execute_result"
    }
   ],
   "source": [
    "x = \"VishalVijayBoraste\"\n",
    "x.isalpha()"
   ]
  },
  {
   "cell_type": "code",
   "execution_count": 32,
   "metadata": {},
   "outputs": [
    {
     "data": {
      "text/plain": [
       "False"
      ]
     },
     "execution_count": 32,
     "metadata": {},
     "output_type": "execute_result"
    }
   ],
   "source": [
    "x = \"vishal vijay boraste\"\n",
    "x.isalpha()"
   ]
  },
  {
   "cell_type": "code",
   "execution_count": 24,
   "metadata": {},
   "outputs": [
    {
     "data": {
      "text/plain": [
       "False"
      ]
     },
     "execution_count": 24,
     "metadata": {},
     "output_type": "execute_result"
    }
   ],
   "source": [
    "x = \"Vishal Vijay Boraste\"\n",
    "x.isnumeric()"
   ]
  },
  {
   "cell_type": "code",
   "execution_count": 33,
   "metadata": {},
   "outputs": [
    {
     "data": {
      "text/plain": [
       "True"
      ]
     },
     "execution_count": 33,
     "metadata": {},
     "output_type": "execute_result"
    }
   ],
   "source": [
    "x = \"vishalvijayboraste345\"\n",
    "x.islower()"
   ]
  },
  {
   "cell_type": "code",
   "execution_count": null,
   "metadata": {},
   "outputs": [],
   "source": []
  },
  {
   "cell_type": "markdown",
   "metadata": {},
   "source": [
    "### 6:Indian PAN card format follows the following formats -\n",
    "\n",
    "AYEPC7894X\n",
    "ABCDE9999Y Take user input for PAN_CARD and validate as per the above example."
   ]
  },
  {
   "cell_type": "code",
   "execution_count": 42,
   "metadata": {},
   "outputs": [
    {
     "name": "stdout",
     "output_type": "stream",
     "text": [
      "Enter your pan card No: AYEPC7894X\n",
      "Ok\n"
     ]
    }
   ],
   "source": [
    "Pan_card = input(\"Enter your pan card No: \")\n",
    "if len(Pan_card)==10:\n",
    "    first_f = Pan_card[0:5]\n",
    "    second_f= Pan_card[5:9]\n",
    "    if first_f.isalpha() and first_f.isupper() and second_f.isnumeric() and Pan_card[-1].isalpha():\n",
    "        print(\"Ok\")\n",
    "    else:\n",
    "        print(\"Not Ok\")\n",
    "else:\n",
    "    print(\"Not Ok\")"
   ]
  },
  {
   "cell_type": "code",
   "execution_count": null,
   "metadata": {},
   "outputs": [],
   "source": []
  }
 ],
 "metadata": {
  "colab": {
   "collapsed_sections": [],
   "provenance": []
  },
  "kernelspec": {
   "display_name": "Python 3 (ipykernel)",
   "language": "python",
   "name": "python3"
  },
  "language_info": {
   "codemirror_mode": {
    "name": "ipython",
    "version": 3
   },
   "file_extension": ".py",
   "mimetype": "text/x-python",
   "name": "python",
   "nbconvert_exporter": "python",
   "pygments_lexer": "ipython3",
   "version": "3.9.12"
  }
 },
 "nbformat": 4,
 "nbformat_minor": 1
}
